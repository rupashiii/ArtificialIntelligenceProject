{
  "nbformat": 4,
  "nbformat_minor": 0,
  "metadata": {
    "colab": {
      "provenance": [],
      "gpuType": "T4",
      "authorship_tag": "ABX9TyNVQPGl/vqXzEL0Y+CVz0I6",
      "include_colab_link": true
    },
    "kernelspec": {
      "name": "python3",
      "display_name": "Python 3"
    },
    "language_info": {
      "name": "python"
    },
    "accelerator": "GPU"
  },
  "cells": [
    {
      "cell_type": "markdown",
      "metadata": {
        "id": "view-in-github",
        "colab_type": "text"
      },
      "source": [
        "<a href=\"https://colab.research.google.com/github/rupashiii/ArtificialIntelligenceProject/blob/main/OpenAIModel.ipynb\" target=\"_parent\"><img src=\"https://colab.research.google.com/assets/colab-badge.svg\" alt=\"Open In Colab\"/></a>"
      ]
    },
    {
      "cell_type": "code",
      "execution_count": 1,
      "metadata": {
        "id": "sdURyOWXidkz"
      },
      "outputs": [],
      "source": [
        "!pip install gradio --quiet"
      ]
    },
    {
      "cell_type": "code",
      "source": [
        "import requests\n",
        "import gradio as gr\n",
        "\n",
        "OPENROUTER_API_KEY = \"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\"\n",
        "OPENROUTER_URL = \"https://openrouter.ai/api/v1/chat/completions\"\n",
        "\n",
        "def study_assistant(mode, topic):\n",
        "    headers = {\n",
        "        \"Authorization\": f\"Bearer {OPENROUTER_API_KEY}\",\n",
        "        \"Content-Type\": \"application/json\"\n",
        "    }\n",
        "\n",
        "    if mode == \"Explain\":\n",
        "        user_prompt = f\"Explain the topic '{topic}' in a simple and clear way, as if teaching a student.\"\n",
        "    elif mode == \"Quiz\":\n",
        "        user_prompt = f\"Create a short quiz (3-5 questions) on the topic '{topic}' with answers at the end.\"\n",
        "\n",
        "    data = {\n",
        "        \"model\": \"openai/gpt-4o-mini\",\n",
        "        \"messages\": [\n",
        "            {\"role\": \"system\", \"content\": \"You are a helpful study assistant that can either explain topics or create quizzes.\"},\n",
        "            {\"role\": \"user\", \"content\": user_prompt}\n",
        "        ]\n",
        "    }\n",
        "\n",
        "    response = requests.post(OPENROUTER_URL, headers=headers, json=data)\n",
        "\n",
        "    if response.status_code != 200:\n",
        "        return f\"Error {response.status_code}: {response.text}\"\n",
        "\n",
        "    result = response.json()\n",
        "    return result[\"choices\"][0][\"message\"][\"content\"]\n",
        "\n",
        "# Gradio UI\n",
        "iface = gr.Interface(\n",
        "    fn=study_assistant,\n",
        "    inputs=[\n",
        "        gr.Radio([\"Explain\", \"Quiz\"], label=\"Select Mode\"),\n",
        "        gr.Textbox(label=\"Enter Topic\", placeholder=\"e.g., Merge Sort\")\n",
        "    ],\n",
        "    outputs=gr.Textbox(label=\"Response\"),\n",
        "    title=\"📚 Study Assistant with Quiz Mode\",\n",
        "    description=\"Choose 'Explain' to get a detailed explanation or 'Quiz' to test yourself on a topic.\"\n",
        ")\n",
        "\n",
        "iface.launch(share=True)\n"
      ],
      "metadata": {
        "colab": {
          "base_uri": "https://localhost:8080/",
          "height": 611
        },
        "id": "ACohXr4KJHJF",
        "outputId": "3c1bf792-5a5a-48a4-a00b-b6a72c3fd7a1"
      },
      "execution_count": 2,
      "outputs": [
        {
          "output_type": "stream",
          "name": "stdout",
          "text": [
            "Colab notebook detected. To show errors in colab notebook, set debug=True in launch()\n",
            "* Running on public URL: https://5e525a257bc5b68a8e.gradio.live\n",
            "\n",
            "This share link expires in 1 week. For free permanent hosting and GPU upgrades, run `gradio deploy` from the terminal in the working directory to deploy to Hugging Face Spaces (https://huggingface.co/spaces)\n"
          ]
        },
        {
          "output_type": "display_data",
          "data": {
            "text/plain": [
              "<IPython.core.display.HTML object>"
            ],
            "text/html": [
              "<div><iframe src=\"https://5e525a257bc5b68a8e.gradio.live\" width=\"100%\" height=\"500\" allow=\"autoplay; camera; microphone; clipboard-read; clipboard-write;\" frameborder=\"0\" allowfullscreen></iframe></div>"
            ]
          },
          "metadata": {}
        },
        {
          "output_type": "execute_result",
          "data": {
            "text/plain": []
          },
          "metadata": {},
          "execution_count": 2
        }
      ]
    }
  ]
}